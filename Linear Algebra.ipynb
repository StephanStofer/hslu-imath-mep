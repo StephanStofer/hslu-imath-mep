{
 "cells": [
  {
   "cell_type": "markdown",
   "metadata": {},
   "source": [
    "# Your helper to get all these points in LinAlg and more :)"
   ]
  },
  {
   "cell_type": "markdown",
   "metadata": {},
   "source": [
    "## Basics"
   ]
  },
  {
   "cell_type": "code",
   "execution_count": 81,
   "metadata": {},
   "outputs": [
    {
     "name": "stdout",
     "output_type": "stream",
     "text": [
      "A =\n",
      "\n",
      "   1   3\n",
      "   2   6\n",
      "\n"
     ]
    }
   ],
   "source": [
    "A = [1 3; 2 6]"
   ]
  },
  {
   "cell_type": "code",
   "execution_count": 82,
   "metadata": {},
   "outputs": [
    {
     "name": "stdout",
     "output_type": "stream",
     "text": [
      "ans =\n",
      "\n",
      "   0.31623\n",
      "   0.94868\n",
      "\n"
     ]
    }
   ],
   "source": [
    "(1/sqrt(50))*[1 2; 3 6]*(1/sqrt(5))*[1; 2]"
   ]
  },
  {
   "cell_type": "code",
   "execution_count": 77,
   "metadata": {},
   "outputs": [
    {
     "name": "stdout",
     "output_type": "stream",
     "text": [
      "A =\n",
      "\n",
      "   10   20\n",
      "   20   40\n",
      "\n"
     ]
    }
   ],
   "source": [
    "A = A*A'"
   ]
  },
  {
   "cell_type": "code",
   "execution_count": 53,
   "metadata": {},
   "outputs": [
    {
     "name": "stdout",
     "output_type": "stream",
     "text": [
      "ans =\n",
      "\n",
      "   1   0  -1\n",
      "   0   1   2\n",
      "   0   0   0\n",
      "\n"
     ]
    }
   ],
   "source": [
    "rref(A)"
   ]
  },
  {
   "cell_type": "code",
   "execution_count": 40,
   "metadata": {},
   "outputs": [
    {
     "name": "stdout",
     "output_type": "stream",
     "text": [
      "ans = -1\n"
     ]
    }
   ],
   "source": [
    "det(A)"
   ]
  },
  {
   "cell_type": "code",
   "execution_count": 80,
   "metadata": {},
   "outputs": [
    {
     "name": "stdout",
     "output_type": "stream",
     "text": [
      "V =\n",
      "\n",
      "  -0.89443   0.44721\n",
      "   0.44721   0.89443\n",
      "\n",
      "lambda =\n",
      "\n",
      "Diagonal Matrix\n",
      "\n",
      "    0    0\n",
      "    0   50\n",
      "\n"
     ]
    }
   ],
   "source": [
    "[V, lambda] = eig(A)"
   ]
  },
  {
   "cell_type": "code",
   "execution_count": 44,
   "metadata": {},
   "outputs": [
    {
     "name": "stdout",
     "output_type": "stream",
     "text": [
      "ans =\n",
      "\n",
      "   5   1  -2\n",
      "  -4  -1   2\n",
      "  -4   0   1\n",
      "\n"
     ]
    }
   ],
   "source": [
    "inv(A)"
   ]
  },
  {
   "cell_type": "code",
   "execution_count": 50,
   "metadata": {},
   "outputs": [
    {
     "name": "stdout",
     "output_type": "stream",
     "text": [
      "ans =\n",
      "\n",
      "  -0.40825\n",
      "   0.81650\n",
      "  -0.40825\n",
      "\n"
     ]
    }
   ],
   "source": [
    "null(A)"
   ]
  },
  {
   "cell_type": "code",
   "execution_count": 51,
   "metadata": {},
   "outputs": [
    {
     "name": "stdout",
     "output_type": "stream",
     "text": [
      "ans =\n",
      "\n",
      "   0.19435  -0.14510\n",
      "   0.59824   0.80131\n",
      "   0.77739  -0.58038\n",
      "\n"
     ]
    }
   ],
   "source": [
    "orth(A)"
   ]
  },
  {
   "cell_type": "code",
   "execution_count": 52,
   "metadata": {},
   "outputs": [
    {
     "name": "stdout",
     "output_type": "stream",
     "text": [
      "ans =  2\n"
     ]
    }
   ],
   "source": [
    "rank(A)"
   ]
  },
  {
   "cell_type": "markdown",
   "metadata": {},
   "source": [
    "## LU-Factorization"
   ]
  },
  {
   "cell_type": "code",
   "execution_count": 27,
   "metadata": {},
   "outputs": [],
   "source": [
    "function LU_decomposition(A)\n",
    "\n",
    "    [m, n] = size(A)\n",
    "    if (m != n)\n",
    "        error(\"A needs to be a square matrix\")\n",
    "    endif\n",
    "\n",
    "    for k=1:m\n",
    "        for i=k+1:m\n",
    "            fact = A(i,k)/A(k,k);\n",
    "            for j=k:n\n",
    "                A(i,j) = A(i,j) - fact*A(k,j);\n",
    "            end\n",
    "            A(i,k) = fact;\n",
    "        end\n",
    "    end\n",
    "    U = triu(A)\n",
    "    L = tril(A,-1) + eye(m,n)\n",
    "endfunction"
   ]
  },
  {
   "cell_type": "code",
   "execution_count": 29,
   "metadata": {},
   "outputs": [
    {
     "name": "stdout",
     "output_type": "stream",
     "text": [
      "A =\n",
      "\n",
      "   1   2   2\n",
      "   0   3   2\n",
      "   4   8   9\n",
      "\n",
      "m =  3\n",
      "n =  3\n",
      "U =\n",
      "\n",
      "   1   2   2\n",
      "   0   3   2\n",
      "   0   0   1\n",
      "\n",
      "L =\n",
      "\n",
      "   1   0   0\n",
      "   0   1   0\n",
      "   4   0   1\n",
      "\n"
     ]
    }
   ],
   "source": [
    "A = [1 2 2; 0 3 2; 4 8 9]\n",
    "LU_decomposition(A)"
   ]
  },
  {
   "cell_type": "markdown",
   "metadata": {},
   "source": [
    "## Diagonalization"
   ]
  },
  {
   "cell_type": "markdown",
   "metadata": {},
   "source": [
    "Gives not always the exact same result - dont know why "
   ]
  },
  {
   "cell_type": "code",
   "execution_count": 62,
   "metadata": {},
   "outputs": [
    {
     "name": "stdout",
     "output_type": "stream",
     "text": [
      "ans =\n",
      "\n",
      "  -3\n",
      "   3\n",
      "\n"
     ]
    }
   ],
   "source": [
    "A = [-3 4; 4 3];\n",
    "diag(A)"
   ]
  },
  {
   "cell_type": "markdown",
   "metadata": {},
   "source": [
    "## Singular Value Decomposition"
   ]
  },
  {
   "cell_type": "code",
   "execution_count": 79,
   "metadata": {},
   "outputs": [
    {
     "name": "stdout",
     "output_type": "stream",
     "text": [
      "U =\n",
      "\n",
      "  -0.44721  -0.89443\n",
      "  -0.89443   0.44721\n",
      "\n",
      "Sigma =\n",
      "\n",
      "Diagonal Matrix\n",
      "\n",
      "   5.0000e+01            0\n",
      "            0   3.1776e-15\n",
      "\n",
      "V =\n",
      "\n",
      "  -0.44721   0.89443\n",
      "  -0.89443  -0.44721\n",
      "\n"
     ]
    }
   ],
   "source": [
    "A = [2 2; 1 1];\n",
    "[U, Sigma, V] = svd(A)"
   ]
  },
  {
   "cell_type": "markdown",
   "metadata": {},
   "source": [
    "## Gerüst für projektive Geometrie"
   ]
  },
  {
   "cell_type": "markdown",
   "metadata": {},
   "source": [
    "$P' = T^{-1}*P*T*Points$"
   ]
  },
  {
   "cell_type": "code",
   "execution_count": 84,
   "metadata": {},
   "outputs": [
    {
     "name": "stdout",
     "output_type": "stream",
     "text": [
      "New_Points =\n",
      "\n",
      "  -1  -1  -2  -2\n",
      "   1   2   2   1\n",
      "   1   1   1   1\n",
      "\n"
     ]
    }
   ],
   "source": [
    "T = [1 0 1; 0 1 0; 0 0 1];\n",
    "P = [0 -1 0; 1 0 0; 0 0 1];\n",
    "Points = [0 1 1 0; 0 0 1 1; 1 1 1 1];\n",
    "New_Points = inv(T) * P * T * Points"
   ]
  }
 ],
 "metadata": {
  "kernelspec": {
   "display_name": "Octave",
   "language": "octave",
   "name": "octave"
  },
  "language_info": {
   "file_extension": ".m",
   "help_links": [
    {
     "text": "GNU Octave",
     "url": "https://www.gnu.org/software/octave/support.html"
    },
    {
     "text": "Octave Kernel",
     "url": "https://github.com/Calysto/octave_kernel"
    },
    {
     "text": "MetaKernel Magics",
     "url": "https://metakernel.readthedocs.io/en/latest/source/README.html"
    }
   ],
   "mimetype": "text/x-octave",
   "name": "octave",
   "version": "5.2.0"
  }
 },
 "nbformat": 4,
 "nbformat_minor": 4
}
