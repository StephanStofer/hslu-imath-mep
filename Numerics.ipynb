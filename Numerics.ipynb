{
 "cells": [
  {
   "cell_type": "markdown",
   "metadata": {},
   "source": [
    "# Numerics"
   ]
  },
  {
   "cell_type": "markdown",
   "metadata": {},
   "source": [
    "## Trapezoidal Rule"
   ]
  },
  {
   "cell_type": "code",
   "execution_count": 4,
   "metadata": {},
   "outputs": [],
   "source": [
    "function T = TrapezoidalRule(f,a,b,n)\n",
    "% TRAPEZOIDALRULE computes the integral of f by subdividing the\n",
    "% interval [a,b] into n intervals using the trapezoidal rule.\n",
    "    x = linspace(a,b,n+1);\n",
    "    T = feval(f,a) + feval(f,b);\n",
    "    for i=1:n-1\n",
    "        T = T + 2*feval(f,x(i+1));\n",
    "    end\n",
    "    T = (b-a)*T/(2*n);\n",
    "end\n"
   ]
  },
  {
   "cell_type": "code",
   "execution_count": 6,
   "metadata": {},
   "outputs": [
    {
     "name": "stdout",
     "output_type": "stream",
     "text": [
      "TrapezoidalRule for n=32 \t intervall = 1.628312899375075e+00\n",
      "TrapezoidalRule for n=64 \t intervall = 1.628757382371713e+00\n",
      "TrapezoidalRule for n=128 \t intervall = 1.628868489202797e+00\n",
      "TrapezoidalRule for n=256 \t intervall = 1.628896265039894e+00\n",
      "TrapezoidalRule for n=512 \t intervall = 1.628903208944738e+00\n",
      "TrapezoidalRule for n=1024 \t intervall = 1.628904944917545e+00\n",
      "TrapezoidalRule for n=30000 \t intervall = 1.628905522900666e+00\n",
      "using_quad =  1.628905523574849\n"
     ]
    }
   ],
   "source": [
    "format long\n",
    "f = @(x) [exp(-x*x)];\n",
    "a = [32,64,128,256,512,1024, 30000];\n",
    "for i = a\n",
    "    format long\n",
    "    printf('TrapezoidalRule for n=%i \\t intervall = %0.15e\\n',i, TrapezoidalRule(f,-1,2,i))\n",
    "endfor\n",
    "\n",
    "using_quad = quad(f, -1,2)"
   ]
  },
  {
   "cell_type": "markdown",
   "metadata": {},
   "source": [
    "## Simpsons Rule"
   ]
  },
  {
   "cell_type": "code",
   "execution_count": 5,
   "metadata": {},
   "outputs": [],
   "source": [
    "function S = SimpsonsRule(f,a,b,n)\n",
    "% SIMPSONSRULE computes the integral of f by subdividing the\n",
    "% interval [a,b] into an even number n of intervals using\n",
    "% Simpson's rule.\n",
    "    x = linspace(a,b,n+1);\n",
    "    S = feval(f,a) + feval(f,b);\n",
    "    for i=2:2:n\n",
    "        S = S + 4*feval(f,x(i));\n",
    "    end\n",
    "    for i=3:2:n-1\n",
    "        S = S + 2*feval(f,x(i));\n",
    "    end\n",
    "    S = (b-a)*S/(3*n);\n",
    "end"
   ]
  },
  {
   "cell_type": "code",
   "execution_count": 9,
   "metadata": {},
   "outputs": [
    {
     "name": "stdout",
     "output_type": "stream",
     "text": [
      "Simpsons-Rule  for n=2 \t intervall = 2.094395102393195e+00\n",
      "Simpsons-Rule  for n=4 \t intervall = 2.004559754984421e+00\n",
      "Simpsons-Rule  for n=32 \t intervall = 2.000001033369413e+00\n",
      "Simpsons-Rule  for n=64 \t intervall = 2.000000064530001e+00\n",
      "Simpsons-Rule  for n=128 \t intervall = 2.000000004032258e+00\n",
      "Simpsons-Rule  for n=238 \t intervall = 2.000000000337331e+00\n",
      "Simpsons-Rule  for n=256 \t intervall = 2.000000000252003e+00\n",
      "Simpsons-Rule  for n=512 \t intervall = 2.000000000015753e+00\n",
      "Simpsons-Rule  for n=1024 \t intervall = 2.000000000000981e+00\n",
      "using_quad =    9.564491424152821e-01\n"
     ]
    }
   ],
   "source": [
    "format long\n",
    "f = @(x) [sin(x)];\n",
    "a = [2,4,32,64,128,238,256,512,1024];\n",
    "for i = a\n",
    "    format long\n",
    "    printf('Simpsons-Rule  for n=%i \\t intervall = %0.15e\\n',i, SimpsonsRule(f,0,pi,i))\n",
    "endfor\n",
    "\n",
    "using_quad = quad(f,-1,2)"
   ]
  },
  {
   "cell_type": "markdown",
   "metadata": {},
   "source": [
    "## Natural cubic spline"
   ]
  },
  {
   "cell_type": "code",
   "execution_count": 2,
   "metadata": {},
   "outputs": [
    {
     "data": {
      "image/png": "[encoded data removed]",
      "text/plain": [
       "<IPython.core.display.Image object>"
      ]
     },
     "metadata": {},
     "output_type": "display_data"
    }
   ],
   "source": [
    "X = [0 1 2];\n",
    "Y = [0 1 1];\n",
    "x = linspace(0, 4, 100);\n",
    "plot(x, ppval(spline(X,[0 Y 0]),x))"
   ]
  },
  {
   "cell_type": "markdown",
   "metadata": {},
   "source": [
    "## Trigonometric functions"
   ]
  },
  {
   "cell_type": "code",
   "execution_count": 41,
   "metadata": {},
   "outputs": [
    {
     "name": "stdout",
     "output_type": "stream",
     "text": [
      "A =\n",
      "\n",
      "   1 + 0i   1 + 0i   1 + 0i   1 + 0i\n",
      "   1 + 0i  -0 - 1i  -1 + 0i   0 + 1i\n",
      "   1 + 0i  -1 + 0i   1 + 0i  -1 + 0i\n",
      "   1 + 0i   0 + 1i  -1 + 0i  -0 - 1i\n",
      "\n",
      "b =\n",
      "\n",
      "   8\n",
      "   6\n",
      "   4\n",
      "   2\n",
      "\n",
      "ans =\n",
      "\n",
      "   5 + 0i\n",
      "   1 + 1i\n",
      "   1 + 0i\n",
      "   1 - 1i\n",
      "\n"
     ]
    }
   ],
   "source": [
    "A = [1 1 1 1; 1 -i -1 i; 1 -1 1 -1; 1 i -1 -i]\n",
    "b = [8; 6; 4; 2]\n",
    "A\\b\n"
   ]
  },
  {
   "cell_type": "code",
   "execution_count": 40,
   "metadata": {},
   "outputs": [
    {
     "data": {
      "image/png": "[encoded data removed]",
      "text/plain": [
       "<IPython.core.display.Image object>"
      ]
     },
     "metadata": {},
     "output_type": "display_data"
    }
   ],
   "source": [
    "f = 5+(1-i)*exp(i*x)+exp(2*i*x)+(1+i)*exp(3*i*x);\n",
    "f_real = 5 + 2*cos(x)+2*sin(x)+cos(2*x);\n",
    "x = 0:0.1:4.7;\n",
    "a = [0 pi/2 pi 3*pi/2];\n",
    "b = [8 6 4 2];\n",
    "\n",
    "plot (a, b, 'r*', x, f_real, x, f);\n"
   ]
  },
  {
   "cell_type": "markdown",
   "metadata": {},
   "source": [
    "## FFT mit $N = 4$"
   ]
  },
  {
   "cell_type": "code",
   "execution_count": 1,
   "metadata": {},
   "outputs": [
    {
     "name": "stdout",
     "output_type": "stream",
     "text": [
      "ans =\n",
      "\n",
      "   20 +  0i\n",
      "   -4 +  4i\n",
      "   -4 +  0i\n",
      "   -4 -  4i\n",
      "\n"
     ]
    }
   ],
   "source": [
    "f = [2 4 6 8]';\n",
    "fft(f)"
   ]
  },
  {
   "cell_type": "markdown",
   "metadata": {},
   "source": [
    "## Circular Convolution"
   ]
  },
  {
   "cell_type": "code",
   "execution_count": 2,
   "metadata": {},
   "outputs": [],
   "source": [
    "% O(n^2)\n",
    "function f = circularconv(x,y)\n",
    "\n",
    "    % get lenght of input\n",
    "    len = size(x,1);\n",
    "\n",
    "    for n = 1:len\n",
    "        sum = 0;\n",
    "        for k = 1:len\n",
    "            % get the new position using modulo \n",
    "            m = mod(n-k,len);\n",
    "            % calculate the sum of every element\n",
    "            sum += x(k)*y(m+1);\n",
    "        end\n",
    "        f(n) = sum;\n",
    "    end\n",
    "end"
   ]
  },
  {
   "cell_type": "code",
   "execution_count": 3,
   "metadata": {},
   "outputs": [
    {
     "name": "stdout",
     "output_type": "stream",
     "text": [
      "f =\n",
      "\n",
      "   112    91    71    88   124\n",
      "\n"
     ]
    }
   ],
   "source": [
    "x = [1; 2; 4; 5; 6];\n",
    "y = [7; 8; 9; 3; 0];\n",
    "\n",
    "f = circularconv(x,y)"
   ]
  }
 ],
 "metadata": {
  "kernelspec": {
   "display_name": "Octave",
   "language": "octave",
   "name": "octave"
  },
  "language_info": {
   "file_extension": ".m",
   "help_links": [
    {
     "text": "GNU Octave",
     "url": "https://www.gnu.org/software/octave/support.html"
    },
    {
     "text": "Octave Kernel",
     "url": "https://github.com/Calysto/octave_kernel"
    },
    {
     "text": "MetaKernel Magics",
     "url": "https://metakernel.readthedocs.io/en/latest/source/README.html"
    }
   ],
   "mimetype": "text/x-octave",
   "name": "octave",
   "version": "5.2.0"
  }
 },
 "nbformat": 4,
 "nbformat_minor": 4
}
