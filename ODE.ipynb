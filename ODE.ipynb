{
 "cells": [
  {
   "cell_type": "markdown",
   "metadata": {},
   "source": [
    "# ODE's"
   ]
  },
  {
   "cell_type": "markdown",
   "metadata": {},
   "source": [
    "## Euler forward"
   ]
  },
  {
   "cell_type": "code",
   "execution_count": 54,
   "metadata": {},
   "outputs": [
    {
     "name": "stdout",
     "output_type": "stream",
     "text": [
      "1.1000\n",
      "1.1905\n",
      "1.2724\n",
      "1.3464\n",
      "1.4135\n",
      "1.4741\n",
      "1.5290\n",
      "1.5787\n",
      "1.6236\n",
      "1.6643\n",
      "1.7010\n",
      "1.7343\n",
      "1.7644\n",
      "1.7917\n",
      "1.8164\n",
      "1.8387\n",
      "1.8589\n",
      "1.8771\n",
      "1.8937\n",
      "1.9086\n"
     ]
    },
    {
     "data": {
      "image/png": "[encoded data removed]",
      "text/plain": [
       "<IPython.core.display.Image object>"
      ]
     },
     "metadata": {},
     "output_type": "display_data"
    }
   ],
   "source": [
    "stepSize = 20;\n",
    "startValue = 1.0;\n",
    "y = @(t)(exp(-t));\n",
    "\n",
    "graphics_toolkit (\"gnuplot\")\n",
    "\n",
    "function [t,u] = ForwardEuler(f, tRange, u0, N)\n",
    "    t = zeros(N+1,1);\n",
    "    t(1) = tRange(1);\n",
    "    h = (tRange(2)-tRange(1))/N;\n",
    "    u(:,1) = u0;\n",
    "    for n = 1 :N\n",
    "        t(n+1) = t(n)+h;\n",
    "        u(:,n+1)=u(:,n)+h*feval(f,t(n),u(:,n));\n",
    "        disp(u(:,n+1))\n",
    "    end\n",
    "endfunction\n",
    "\n",
    "function du = my_ode(t,u)\n",
    "% du = my_ode(t,u) is the RHS function for the ODE u'=-u\n",
    "% t is the independent variable\n",
    "% u is the dependent variable\n",
    "% du is u'\n",
    "    du = -u;\n",
    "endfunction\n",
    "\n",
    "[t,u] = ForwardEuler(y, [0.0,2.0], startValue, stepSize);\n",
    "plot(t,u,'-go','MarkerFaceColor','g');\n",
    "hold on\n",
    "% [t1,u1] = BackwardEuler(y, [0.0,2.0], startValue, stepSize); % <- replaced \"my_ode\" with y\n",
    "axis equal, axis([0 2 0 1]), xlabel('t'), ylabel('u')\n",
    "% plot(t1,y1,'-b','LineWidth',2);\n",
    "plot(t,exp(-t),'-r','LineWidth',2);"
   ]
  },
  {
   "cell_type": "code",
   "execution_count": 30,
   "metadata": {},
   "outputs": [
    {
     "name": "stdout",
     "output_type": "stream",
     "text": [
      "dy =\n",
      "\n",
      "@(x, y) y\n",
      "\n",
      "0.5000\n",
      "1.5000\n",
      "   1.0000\n",
      "   0.9048\n",
      "   0.8187\n",
      "   0.7408\n",
      "   0.6703\n",
      "   0.6065\n",
      "   0.5488\n",
      "   0.4966\n",
      "   0.4493\n",
      "   0.4066\n",
      "   0.3679\n",
      "   0.3329\n",
      "   0.3012\n",
      "   0.2725\n",
      "   0.2466\n",
      "   0.2231\n",
      "   0.2019\n",
      "   0.1827\n",
      "   0.1653\n",
      "   0.1496\n",
      "   0.1353\n",
      "1\n",
      "2.2500\n",
      "   1.0000\n",
      "   0.9048\n",
      "   0.8187\n",
      "   0.7408\n",
      "   0.6703\n",
      "   0.6065\n",
      "   0.5488\n",
      "   0.4966\n",
      "   0.4493\n",
      "   0.4066\n",
      "   0.3679\n",
      "   0.3329\n",
      "   0.3012\n",
      "   0.2725\n",
      "   0.2466\n",
      "   0.2231\n",
      "   0.2019\n",
      "   0.1827\n",
      "   0.1653\n",
      "   0.1496\n",
      "   0.1353\n",
      "1.5000\n",
      "3.3750\n",
      "   1.0000\n",
      "   0.9048\n",
      "   0.8187\n",
      "   0.7408\n",
      "   0.6703\n",
      "   0.6065\n",
      "   0.5488\n",
      "   0.4966\n",
      "   0.4493\n",
      "   0.4066\n",
      "   0.3679\n",
      "   0.3329\n",
      "   0.3012\n",
      "   0.2725\n",
      "   0.2466\n",
      "   0.2231\n",
      "   0.2019\n",
      "   0.1827\n",
      "   0.1653\n",
      "   0.1496\n",
      "   0.1353\n",
      "2\n",
      "5.0625\n",
      "   1.0000\n",
      "   0.9048\n",
      "   0.8187\n",
      "   0.7408\n",
      "   0.6703\n",
      "   0.6065\n",
      "   0.5488\n",
      "   0.4966\n",
      "   0.4493\n",
      "   0.4066\n",
      "   0.3679\n",
      "   0.3329\n",
      "   0.3012\n",
      "   0.2725\n",
      "   0.2466\n",
      "   0.2231\n",
      "   0.2019\n",
      "   0.1827\n",
      "   0.1653\n",
      "   0.1496\n",
      "   0.1353\n"
     ]
    }
   ],
   "source": [
    "dy = @(y)y\n",
    "f = @(x)-3;\n",
    "\n",
    "x0 = 0;\n",
    "xn = 2;\n",
    "y = 1;\n",
    "h = 0.5;\n",
    "\n",
    "for x = x0 : h: xn-h\n",
    "    y = y + dy(x,y)*h;\n",
    "    x = x + h;\n",
    "    disp(x);\n",
    "    disp(y);\n",
    "    disp(f(x));\n",
    "end"
   ]
  },
  {
   "cell_type": "code",
   "execution_count": 43,
   "metadata": {},
   "outputs": [],
   "source": [
    "function [t,u] = BackwardEuler(f, tRange, u0, N)\n",
    "% Use backward (implicit) Euler to solve a system of 1st-order ODEs of the form\n",
    "% u’=f(t,u). Here f = name of an m-file which defines \"du = f(u,t)\" to compute % the RHS of the ODE as a row vector. tRange = [t0,t1], where the solution will\n",
    "% be computed for t0<=t<=t1. Also\n",
    "% u0 = column vector of initial values for u at t0\n",
    "% N = number of equally-sized steps from t0 to t1 %t =rowvectorofvaluesoft\n",
    "% u = matrix whose n-th row is the approx. solution at t(n).\n",
    "    t = zeros(N+1,1); % initialize t t(1) = tRange(1);\n",
    "    h = (tRange(2)-tRange(1))/N; % step size u(:,1) = u0; % u0\n",
    "    for n = 1 : N\n",
    "        t(n+1) = t(n) + h;\n",
    "        options = optimset(\"Display\",\"off\",\"TolFun\",1e-8,'TolX',1e-8);\n",
    "        [u(:,n+1),Fval,exitflag] = fsolve(@(x) x - u(:,n) - h * feval(f, t(n+1), x), u(:,n), options);\n",
    "    end\n",
    "endfunction"
   ]
  },
  {
   "cell_type": "code",
   "execution_count": null,
   "metadata": {},
   "outputs": [],
   "source": []
  }
 ],
 "metadata": {
  "kernelspec": {
   "display_name": "Octave",
   "language": "octave",
   "name": "octave"
  },
  "language_info": {
   "file_extension": ".m",
   "help_links": [
    {
     "text": "GNU Octave",
     "url": "https://www.gnu.org/software/octave/support.html"
    },
    {
     "text": "Octave Kernel",
     "url": "https://github.com/Calysto/octave_kernel"
    },
    {
     "text": "MetaKernel Magics",
     "url": "https://metakernel.readthedocs.io/en/latest/source/README.html"
    }
   ],
   "mimetype": "text/x-octave",
   "name": "octave",
   "version": "6.1.0"
  }
 },
 "nbformat": 4,
 "nbformat_minor": 4
}
